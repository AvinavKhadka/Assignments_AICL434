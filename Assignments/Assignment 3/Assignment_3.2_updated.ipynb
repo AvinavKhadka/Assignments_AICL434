{
 "cells": [
  {
   "cell_type": "markdown",
   "id": "b035b833",
   "metadata": {},
   "source": [
    "# Assignment 3.2\n",
    "\n",
    "This notebook contains the solution and outputs for **Assignment 3.2**."
   ]
  },
  {
   "cell_type": "markdown",
   "id": "fb806542",
   "metadata": {},
   "source": [
    "## Setup and Imports"
   ]
  },
  {
   "cell_type": "code",
   "execution_count": 1,
   "metadata": {},
   "outputs": [
    {
     "name": "stderr",
     "output_type": "stream",
     "text": [
      "c:\\Users\\LENOVO\\AppData\\Local\\Programs\\Python\\Python311\\Lib\\site-packages\\tqdm\\auto.py:21: TqdmWarning: IProgress not found. Please update jupyter and ipywidgets. See https://ipywidgets.readthedocs.io/en/stable/user_install.html\n",
      "  from .autonotebook import tqdm as notebook_tqdm\n",
      "c:\\Users\\LENOVO\\AppData\\Local\\Programs\\Python\\Python311\\Lib\\site-packages\\torchvision\\io\\image.py:13: UserWarning: Failed to load image Python extension: '[WinError 127] The specified procedure could not be found'If you don't plan on using image functionality from `torchvision.io`, you can ignore this warning. Otherwise, there might be something wrong with your environment. Did you have `libjpeg` or `libpng` installed before building `torchvision` from source?\n",
      "  warn(\n",
      "Device set to use cpu\n"
     ]
    },
    {
     "name": "stdout",
     "output_type": "stream",
     "text": [
      "Summarizer: Successfully initialized summarizer pipeline.\n"
     ]
    },
    {
     "name": "stderr",
     "output_type": "stream",
     "text": [
      "Device set to use cpu\n",
      "Your max_length is set to 150, but your input_length is only 91. Since this is a summarization task, where outputs shorter than the input are typically wanted, you might consider decreasing max_length manually, e.g. summarizer('...', max_length=45)\n"
     ]
    },
    {
     "name": "stdout",
     "output_type": "stream",
     "text": [
      "Answerer: Successfully initialized QA pipeline.\n",
      "Planner: Generated plan - ['Summarize the text: \\n        Artificial intelligence (AI) refers to the simulation of human intelligence in machines tha...', 'Answer questions based on the summary']\n",
      "Summarizer: Generated summary - Artificial intelligence (AI) refers to the simulation of human intelligence in machines that are pro...\n",
      "Answerer: Answered 'What is artificial intelligence?' - simulation of human intelligence in machines that are programmed to think like humans\n",
      "Total execution time: 8.95 seconds\n",
      "Final Answer: simulation of human intelligence in machines that are programmed to think like humans\n"
     ]
    }
   ],
   "source": [
    "from transformers import pipeline\n",
    "import time\n",
    "\n",
    "# Shared memory for agent communication\n",
    "shared_memory = {}\n",
    "\n",
    "# Planner Agent: Generates a plan for processing the input\n",
    "class PlannerAgent:\n",
    "    def __init__(self):\n",
    "        self.name = \"Planner\"\n",
    "    \n",
    "    def execute(self, input_text):\n",
    "        plan = [\n",
    "            f\"Summarize the text: {input_text[:100]}...\",\n",
    "            \"Answer questions based on the summary\"\n",
    "        ]\n",
    "        shared_memory[\"plan\"] = plan\n",
    "        print(f\"{self.name}: Generated plan - {plan}\")\n",
    "        return plan\n",
    "\n",
    "# Summarizer Agent: Summarizes the input text\n",
    "class SummarizerAgent:\n",
    "    def __init__(self):  # Corrected method name\n",
    "        self.name = \"Summarizer\"\n",
    "        try:\n",
    "            self.summarizer = pipeline(\"summarization\", model=\"facebook/bart-large-cnn\", device=-1)  # device=-1 for CPU\n",
    "            print(f\"{self.name}: Successfully initialized summarizer pipeline.\")\n",
    "        except Exception as e:\n",
    "            print(f\"{self.name}: Failed to initialize summarizer pipeline: {e}\")\n",
    "            raise\n",
    "    \n",
    "    def execute(self, input_text):\n",
    "        if not hasattr(self, 'summarizer'):\n",
    "            raise AttributeError(\"Summarizer pipeline not initialized.\")\n",
    "        max_input_length = 1024  # BART's max token limit\n",
    "        truncated_text = input_text[:max_input_length]\n",
    "        summary = self.summarizer(truncated_text, max_length=150, min_length=50, do_sample=False)[0][\"summary_text\"]\n",
    "        shared_memory[\"summary\"] = summary\n",
    "        print(f\"{self.name}: Generated summary - {summary[:100]}...\")\n",
    "        return summary\n",
    "\n",
    "# Answerer Agent: Answers questions based on summary\n",
    "class AnswererAgent:\n",
    "    def __init__(self):\n",
    "        self.name = \"Answerer\"\n",
    "        try:\n",
    "            self.qa_pipeline = pipeline(\"question-answering\", model=\"distilbert-base-cased-distilled-squad\", device=-1)\n",
    "            print(f\"{self.name}: Successfully initialized QA pipeline.\")\n",
    "        except Exception as e:\n",
    "            print(f\"{self.name}: Failed to initialize QA pipeline: {e}\")\n",
    "            raise\n",
    "    \n",
    "    def execute(self, question):\n",
    "        context = shared_memory.get(\"summary\", \"\")\n",
    "        if not context:\n",
    "            return \"No summary available to answer the question.\"\n",
    "        answer = self.qa_pipeline(question=question, context=context)[\"answer\"]\n",
    "        print(f\"{self.name}: Answered '{question}' - {answer}\")\n",
    "        return answer\n",
    "\n",
    "# Multi-Agent System\n",
    "class MultiAgentSystem:\n",
    "    def __init__(self):\n",
    "        self.agents = {\n",
    "            \"planner\": PlannerAgent(),\n",
    "            \"summarizer\": SummarizerAgent(),\n",
    "            \"answerer\": AnswererAgent()\n",
    "        }\n",
    "    \n",
    "    def run(self, input_text, question):\n",
    "        start_time = time.time()\n",
    "        \n",
    "        # Step 1: Planner creates a plan\n",
    "        self.agents[\"planner\"].execute(input_text)\n",
    "        \n",
    "        # Step 2: Summarizer processes the input text\n",
    "        self.agents[\"summarizer\"].execute(input_text)\n",
    "        \n",
    "        # Step 3: Answerer responds to the question\n",
    "        answer = self.agents[\"answerer\"].execute(question)\n",
    "        \n",
    "        print(f\"Total execution time: {time.time() - start_time:.2f} seconds\")\n",
    "        return answer\n",
    "\n",
    "# Example usage\n",
    "if __name__ == \"__main__\":\n",
    "    try:\n",
    "        input_text = \"\"\"\n",
    "        Artificial intelligence (AI) refers to the simulation of human intelligence in machines that are programmed to think like humans and mimic their actions. The term may also be applied to any machine that exhibits traits associated with a human mind such as learning and problem-solving. AI is used in various applications like self-driving cars, medical diagnosis, and virtual assistants.\n",
    "        \"\"\"\n",
    "        question = \"What is artificial intelligence?\"\n",
    "        \n",
    "        system = MultiAgentSystem()\n",
    "        answer = system.run(input_text, question)\n",
    "        print(f\"Final Answer: {answer}\")\n",
    "    except Exception as e:\n",
    "        print(f\"Error running multi-agent system: {e}\")"
   ]
  },
  {
   "cell_type": "code",
   "execution_count": null,
   "metadata": {},
   "outputs": [],
   "source": []
  }
 ],
 "metadata": {
  "kernelspec": {
   "display_name": "Python 3",
   "language": "python",
   "name": "python3"
  },
  "language_info": {
   "codemirror_mode": {
    "name": "ipython",
    "version": 3
   },
   "file_extension": ".py",
   "mimetype": "text/x-python",
   "name": "python",
   "nbconvert_exporter": "python",
   "pygments_lexer": "ipython3",
   "version": "3.11.8"
  }
 },
 "nbformat": 4,
 "nbformat_minor": 2
}
